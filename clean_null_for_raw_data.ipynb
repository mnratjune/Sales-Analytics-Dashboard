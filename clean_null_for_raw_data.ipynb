{
  "nbformat": 4,
  "nbformat_minor": 0,
  "metadata": {
    "colab": {
      "provenance": []
    },
    "kernelspec": {
      "name": "python3",
      "display_name": "Python 3"
    },
    "language_info": {
      "name": "python"
    }
  },
  "cells": [
    {
      "cell_type": "code",
      "source": [
        "from google.colab import drive\n",
        "drive.mount('/content/drive')"
      ],
      "metadata": {
        "colab": {
          "base_uri": "https://localhost:8080/",
          "height": 0
        },
        "id": "gpUBl9aPAZUp",
        "outputId": "ec098f12-f8bc-4403-ef94-a69c9a484de3"
      },
      "execution_count": 3,
      "outputs": [
        {
          "output_type": "stream",
          "name": "stdout",
          "text": [
            "Drive already mounted at /content/drive; to attempt to forcibly remount, call drive.mount(\"/content/drive\", force_remount=True).\n"
          ]
        }
      ]
    },
    {
      "cell_type": "code",
      "source": [
        "pip install charset-normalizer"
      ],
      "metadata": {
        "colab": {
          "base_uri": "https://localhost:8080/",
          "height": 0
        },
        "id": "tQ19sJ5QLTCX",
        "outputId": "53d10fde-8d61-4d96-ef3f-c12edd779354"
      },
      "execution_count": 17,
      "outputs": [
        {
          "output_type": "stream",
          "name": "stdout",
          "text": [
            "Requirement already satisfied: charset-normalizer in /usr/local/lib/python3.10/dist-packages (3.4.0)\n"
          ]
        }
      ]
    },
    {
      "cell_type": "code",
      "source": [
        "import pandas as pd\n",
        "import os\n",
        "from charset_normalizer import from_path\n",
        "\n",
        "# Define directory with raw data CSV files\n",
        "input_directory = '/content/drive/MyDrive/input_directory_liberator'\n",
        "output_directory = '/content/drive/MyDrive/output_directory_liberator'\n",
        "\n",
        "# Create output directory if it does not exist\n",
        "os.makedirs(output_directory, exist_ok=True)\n",
        "\n",
        "# List all CSV files in the input directory\n",
        "csv_files = [file for file in os.listdir(input_directory) if file.endswith('.csv')]\n",
        "\n",
        "# Define cleaning function\n",
        "def clean_data(df):\n",
        "    # Example cleaning steps\n",
        "    for column in df.columns:\n",
        "        if df[column].dtype == 'object':\n",
        "            # Fill nulls in categorical columns with 'Unknown'\n",
        "            df[column].fillna('Unknown', inplace=True)\n",
        "        else:\n",
        "            # Fill nulls in numerical columns with the median\n",
        "            df[column].fillna(df[column].median(), inplace=True)\n",
        "    return df\n",
        "\n",
        "# Process each file\n",
        "for file in csv_files:\n",
        "    # Read the CSV file\n",
        "    file_path = os.path.join(input_directory, file)\n",
        "\n",
        "    result = from_path(file_path).best()\n",
        "    encoding = result.encoding if result else 'utf-8'\n",
        "    print(f\"Detected encoding: {encoding}\")\n",
        "\n",
        "    # cp-1250 to utf-8\n",
        "    # if encoding.lower() != 'utf-8':\n",
        "    #     with open(file_path, 'r', encoding=encoding.lower()) as file:\n",
        "    #         content = file.read()\n",
        "\n",
        "    #     # Write content to a new file with UTF-8 encoding\n",
        "    #     with open(file_path, 'w', encoding='utf-8') as file:\n",
        "    #         file.write(content)\n",
        "\n",
        "    df = pd.read_csv(file_path, encoding='utf-8')\n",
        "\n",
        "    # Clean the data\n",
        "    df_cleaned = clean_data(df)\n",
        "\n",
        "    # Save the cleaned file\n",
        "    output_path = os.path.join(output_directory, file)\n",
        "    df_cleaned.to_csv(output_path, index=False)\n",
        "    print(f\"Cleaned data saved to {output_path}\")\n",
        "\n",
        "print(\"All files have been processed and cleaned.\")\n"
      ],
      "metadata": {
        "colab": {
          "base_uri": "https://localhost:8080/",
          "height": 0
        },
        "id": "d73abtTe_tSO",
        "outputId": "bf68d4a7-7c0c-4547-deb2-7d42bf2e47fd"
      },
      "execution_count": 25,
      "outputs": [
        {
          "output_type": "stream",
          "name": "stdout",
          "text": [
            "Detected encoding: ascii\n",
            "Cleaned data saved to /content/drive/MyDrive/output_directory_liberator/Product Subcategories.csv\n",
            "Detected encoding: ascii\n",
            "Cleaned data saved to /content/drive/MyDrive/output_directory_liberator/Product Categories.csv\n",
            "Detected encoding: ascii\n",
            "Cleaned data saved to /content/drive/MyDrive/output_directory_liberator/Sales Data 2020.csv\n",
            "Detected encoding: ascii\n",
            "Cleaned data saved to /content/drive/MyDrive/output_directory_liberator/Product.csv\n",
            "Detected encoding: ascii\n"
          ]
        },
        {
          "output_type": "stream",
          "name": "stderr",
          "text": [
            "<ipython-input-25-463907a72b6a>:24: FutureWarning: A value is trying to be set on a copy of a DataFrame or Series through chained assignment using an inplace method.\n",
            "The behavior will change in pandas 3.0. This inplace method will never work because the intermediate object on which we are setting values always behaves as a copy.\n",
            "\n",
            "For example, when doing 'df[col].method(value, inplace=True)', try using 'df.method({col: value}, inplace=True)' or df[col] = df[col].method(value) instead, to perform the operation inplace on the original object.\n",
            "\n",
            "\n",
            "  df[column].fillna(df[column].median(), inplace=True)\n",
            "<ipython-input-25-463907a72b6a>:21: FutureWarning: A value is trying to be set on a copy of a DataFrame or Series through chained assignment using an inplace method.\n",
            "The behavior will change in pandas 3.0. This inplace method will never work because the intermediate object on which we are setting values always behaves as a copy.\n",
            "\n",
            "For example, when doing 'df[col].method(value, inplace=True)', try using 'df.method({col: value}, inplace=True)' or df[col] = df[col].method(value) instead, to perform the operation inplace on the original object.\n",
            "\n",
            "\n",
            "  df[column].fillna('Unknown', inplace=True)\n",
            "<ipython-input-25-463907a72b6a>:24: FutureWarning: A value is trying to be set on a copy of a DataFrame or Series through chained assignment using an inplace method.\n",
            "The behavior will change in pandas 3.0. This inplace method will never work because the intermediate object on which we are setting values always behaves as a copy.\n",
            "\n",
            "For example, when doing 'df[col].method(value, inplace=True)', try using 'df.method({col: value}, inplace=True)' or df[col] = df[col].method(value) instead, to perform the operation inplace on the original object.\n",
            "\n",
            "\n",
            "  df[column].fillna(df[column].median(), inplace=True)\n",
            "<ipython-input-25-463907a72b6a>:21: FutureWarning: A value is trying to be set on a copy of a DataFrame or Series through chained assignment using an inplace method.\n",
            "The behavior will change in pandas 3.0. This inplace method will never work because the intermediate object on which we are setting values always behaves as a copy.\n",
            "\n",
            "For example, when doing 'df[col].method(value, inplace=True)', try using 'df.method({col: value}, inplace=True)' or df[col] = df[col].method(value) instead, to perform the operation inplace on the original object.\n",
            "\n",
            "\n",
            "  df[column].fillna('Unknown', inplace=True)\n",
            "<ipython-input-25-463907a72b6a>:21: FutureWarning: A value is trying to be set on a copy of a DataFrame or Series through chained assignment using an inplace method.\n",
            "The behavior will change in pandas 3.0. This inplace method will never work because the intermediate object on which we are setting values always behaves as a copy.\n",
            "\n",
            "For example, when doing 'df[col].method(value, inplace=True)', try using 'df.method({col: value}, inplace=True)' or df[col] = df[col].method(value) instead, to perform the operation inplace on the original object.\n",
            "\n",
            "\n",
            "  df[column].fillna('Unknown', inplace=True)\n",
            "<ipython-input-25-463907a72b6a>:24: FutureWarning: A value is trying to be set on a copy of a DataFrame or Series through chained assignment using an inplace method.\n",
            "The behavior will change in pandas 3.0. This inplace method will never work because the intermediate object on which we are setting values always behaves as a copy.\n",
            "\n",
            "For example, when doing 'df[col].method(value, inplace=True)', try using 'df.method({col: value}, inplace=True)' or df[col] = df[col].method(value) instead, to perform the operation inplace on the original object.\n",
            "\n",
            "\n",
            "  df[column].fillna(df[column].median(), inplace=True)\n",
            "<ipython-input-25-463907a72b6a>:24: FutureWarning: A value is trying to be set on a copy of a DataFrame or Series through chained assignment using an inplace method.\n",
            "The behavior will change in pandas 3.0. This inplace method will never work because the intermediate object on which we are setting values always behaves as a copy.\n",
            "\n",
            "For example, when doing 'df[col].method(value, inplace=True)', try using 'df.method({col: value}, inplace=True)' or df[col] = df[col].method(value) instead, to perform the operation inplace on the original object.\n",
            "\n",
            "\n",
            "  df[column].fillna(df[column].median(), inplace=True)\n",
            "<ipython-input-25-463907a72b6a>:21: FutureWarning: A value is trying to be set on a copy of a DataFrame or Series through chained assignment using an inplace method.\n",
            "The behavior will change in pandas 3.0. This inplace method will never work because the intermediate object on which we are setting values always behaves as a copy.\n",
            "\n",
            "For example, when doing 'df[col].method(value, inplace=True)', try using 'df.method({col: value}, inplace=True)' or df[col] = df[col].method(value) instead, to perform the operation inplace on the original object.\n",
            "\n",
            "\n",
            "  df[column].fillna('Unknown', inplace=True)\n",
            "<ipython-input-25-463907a72b6a>:21: FutureWarning: A value is trying to be set on a copy of a DataFrame or Series through chained assignment using an inplace method.\n",
            "The behavior will change in pandas 3.0. This inplace method will never work because the intermediate object on which we are setting values always behaves as a copy.\n",
            "\n",
            "For example, when doing 'df[col].method(value, inplace=True)', try using 'df.method({col: value}, inplace=True)' or df[col] = df[col].method(value) instead, to perform the operation inplace on the original object.\n",
            "\n",
            "\n",
            "  df[column].fillna('Unknown', inplace=True)\n",
            "<ipython-input-25-463907a72b6a>:24: FutureWarning: A value is trying to be set on a copy of a DataFrame or Series through chained assignment using an inplace method.\n",
            "The behavior will change in pandas 3.0. This inplace method will never work because the intermediate object on which we are setting values always behaves as a copy.\n",
            "\n",
            "For example, when doing 'df[col].method(value, inplace=True)', try using 'df.method({col: value}, inplace=True)' or df[col] = df[col].method(value) instead, to perform the operation inplace on the original object.\n",
            "\n",
            "\n",
            "  df[column].fillna(df[column].median(), inplace=True)\n"
          ]
        },
        {
          "output_type": "stream",
          "name": "stdout",
          "text": [
            "Cleaned data saved to /content/drive/MyDrive/output_directory_liberator/Sales Data 2021.csv\n",
            "Detected encoding: ascii\n",
            "Cleaned data saved to /content/drive/MyDrive/output_directory_liberator/Sales Data 2022.csv\n",
            "Detected encoding: utf_8\n"
          ]
        },
        {
          "output_type": "stream",
          "name": "stderr",
          "text": [
            "<ipython-input-25-463907a72b6a>:21: FutureWarning: A value is trying to be set on a copy of a DataFrame or Series through chained assignment using an inplace method.\n",
            "The behavior will change in pandas 3.0. This inplace method will never work because the intermediate object on which we are setting values always behaves as a copy.\n",
            "\n",
            "For example, when doing 'df[col].method(value, inplace=True)', try using 'df.method({col: value}, inplace=True)' or df[col] = df[col].method(value) instead, to perform the operation inplace on the original object.\n",
            "\n",
            "\n",
            "  df[column].fillna('Unknown', inplace=True)\n",
            "<ipython-input-25-463907a72b6a>:24: FutureWarning: A value is trying to be set on a copy of a DataFrame or Series through chained assignment using an inplace method.\n",
            "The behavior will change in pandas 3.0. This inplace method will never work because the intermediate object on which we are setting values always behaves as a copy.\n",
            "\n",
            "For example, when doing 'df[col].method(value, inplace=True)', try using 'df.method({col: value}, inplace=True)' or df[col] = df[col].method(value) instead, to perform the operation inplace on the original object.\n",
            "\n",
            "\n",
            "  df[column].fillna(df[column].median(), inplace=True)\n",
            "<ipython-input-25-463907a72b6a>:21: FutureWarning: A value is trying to be set on a copy of a DataFrame or Series through chained assignment using an inplace method.\n",
            "The behavior will change in pandas 3.0. This inplace method will never work because the intermediate object on which we are setting values always behaves as a copy.\n",
            "\n",
            "For example, when doing 'df[col].method(value, inplace=True)', try using 'df.method({col: value}, inplace=True)' or df[col] = df[col].method(value) instead, to perform the operation inplace on the original object.\n",
            "\n",
            "\n",
            "  df[column].fillna('Unknown', inplace=True)\n",
            "<ipython-input-25-463907a72b6a>:24: FutureWarning: A value is trying to be set on a copy of a DataFrame or Series through chained assignment using an inplace method.\n",
            "The behavior will change in pandas 3.0. This inplace method will never work because the intermediate object on which we are setting values always behaves as a copy.\n",
            "\n",
            "For example, when doing 'df[col].method(value, inplace=True)', try using 'df.method({col: value}, inplace=True)' or df[col] = df[col].method(value) instead, to perform the operation inplace on the original object.\n",
            "\n",
            "\n",
            "  df[column].fillna(df[column].median(), inplace=True)\n"
          ]
        },
        {
          "output_type": "stream",
          "name": "stdout",
          "text": [
            "Cleaned data saved to /content/drive/MyDrive/output_directory_liberator/Customer.csv\n",
            "All files have been processed and cleaned.\n"
          ]
        }
      ]
    }
  ]
}